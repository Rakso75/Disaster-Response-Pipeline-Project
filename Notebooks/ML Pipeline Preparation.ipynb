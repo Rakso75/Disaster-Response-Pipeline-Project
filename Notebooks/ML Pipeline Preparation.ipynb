{
 "cells": [
  {
   "cell_type": "markdown",
   "metadata": {},
   "source": [
    "# ML Pipeline Preparation\n",
    "Follow the instructions below to help you create your ML pipeline.\n",
    "### 1. Import libraries and load data from database.\n",
    "- Import Python libraries\n",
    "- Load dataset from database with [`read_sql_table`](https://pandas.pydata.org/pandas-docs/stable/generated/pandas.read_sql_table.html)\n",
    "- Define feature and target variables X and Y"
   ]
  },
  {
   "cell_type": "code",
   "execution_count": 1,
   "metadata": {},
   "outputs": [
    {
     "name": "stdout",
     "output_type": "stream",
     "text": [
      "[nltk_data] Downloading package punkt to /root/nltk_data...\n",
      "[nltk_data]   Unzipping tokenizers/punkt.zip.\n",
      "[nltk_data] Downloading package wordnet to /root/nltk_data...\n",
      "[nltk_data] Downloading package averaged_perceptron_tagger to\n",
      "[nltk_data]     /root/nltk_data...\n",
      "[nltk_data]   Unzipping taggers/averaged_perceptron_tagger.zip.\n"
     ]
    },
    {
     "data": {
      "text/plain": [
       "True"
      ]
     },
     "execution_count": 1,
     "metadata": {},
     "output_type": "execute_result"
    }
   ],
   "source": [
    "# Import libraries\n",
    "import nltk\n",
    "from nltk.tokenize import word_tokenize\n",
    "from nltk.stem import WordNetLemmatizer\n",
    "nltk.download(['punkt', 'wordnet', 'averaged_perceptron_tagger'])"
   ]
  },
  {
   "cell_type": "code",
   "execution_count": 3,
   "metadata": {},
   "outputs": [],
   "source": [
    "# Import libraries\n",
    "import os\n",
    "import re \n",
    "import numpy as np\n",
    "import pandas as pd\n",
    "from sqlalchemy import create_engine\n",
    "\n",
    "from sklearn.base import BaseEstimator,TransformerMixin\n",
    "from sklearn.metrics import confusion_matrix, classification_report\n",
    "from sklearn.model_selection import train_test_split , GridSearchCV\n",
    "from sklearn.ensemble import GradientBoostingClassifier, RandomForestClassifier, AdaBoostClassifier\n",
    "from sklearn.feature_extraction.text import CountVectorizer, TfidfTransformer\n",
    "from sklearn.pipeline import Pipeline , FeatureUnion\n",
    "from sklearn.metrics import accuracy_score, precision_score, recall_score, f1_score, make_scorer\n",
    "from sklearn.multioutput import MultiOutputClassifier\n",
    "from sklearn.svm import LinearSVC\n",
    "\n",
    "import pickle"
   ]
  },
  {
   "cell_type": "code",
   "execution_count": 4,
   "metadata": {},
   "outputs": [
    {
     "name": "stdout",
     "output_type": "stream",
     "text": [
      "1.12.1\n",
      "0.23.3\n",
      "0.19.1\n",
      "3.6.3\n"
     ]
    }
   ],
   "source": [
    "##REMOVE###\n",
    "#workspace analysis\n",
    "import sklearn\n",
    "print(np.__version__)\n",
    "print(pd.__version__)\n",
    "#print(sns.__version__)\n",
    "print(sklearn.__version__)\n",
    "from platform import python_version\n",
    "print(python_version())"
   ]
  },
  {
   "cell_type": "code",
   "execution_count": 5,
   "metadata": {},
   "outputs": [],
   "source": [
    "# load data from database\n",
    "engine = create_engine('sqlite:///ETL_Preparation.db') \n",
    "df = pd.read_sql_table('ETL_Preparation_table', engine)\n",
    "\n",
    "X = df['message']   # only column 'message' relevant\n",
    "y = df.iloc[:,4:]"
   ]
  },
  {
   "cell_type": "code",
   "execution_count": 6,
   "metadata": {},
   "outputs": [
    {
     "name": "stdout",
     "output_type": "stream",
     "text": [
      "   id                                            message  \\\n",
      "0   2  Weather update - a cold front from Cuba that c...   \n",
      "1   7            Is the Hurricane over or is it not over   \n",
      "2   8                    Looking for someone but no name   \n",
      "\n",
      "                                            original   genre  related  \\\n",
      "0  Un front froid se retrouve sur Cuba ce matin. ...  direct        1   \n",
      "1                 Cyclone nan fini osinon li pa fini  direct        1   \n",
      "2  Patnm, di Maryani relem pou li banm nouvel li ...  direct        1   \n",
      "\n",
      "   request  offer  aid_related  medical_help  medical_products      ...        \\\n",
      "0        0      0            0             0                 0      ...         \n",
      "1        0      0            1             0                 0      ...         \n",
      "2        0      0            0             0                 0      ...         \n",
      "\n",
      "   aid_centers  other_infrastructure  weather_related  floods  storm  fire  \\\n",
      "0            0                     0                0       0      0     0   \n",
      "1            0                     0                1       0      1     0   \n",
      "2            0                     0                0       0      0     0   \n",
      "\n",
      "   earthquake  cold  other_weather  direct_report  \n",
      "0           0     0              0              0  \n",
      "1           0     0              0              0  \n",
      "2           0     0              0              0  \n",
      "\n",
      "[3 rows x 39 columns]\n",
      "(26216, 39)\n",
      "<class 'pandas.core.frame.DataFrame'>\n"
     ]
    }
   ],
   "source": [
    "# test\n",
    "print(df.head(3))\n",
    "print(df.shape)\n",
    "print(type(df))\n",
    "#df.describe()\n",
    "#Y.head(3)"
   ]
  },
  {
   "cell_type": "markdown",
   "metadata": {},
   "source": [
    "### 2. Write a tokenization function to process your text data"
   ]
  },
  {
   "cell_type": "code",
   "execution_count": 5,
   "metadata": {},
   "outputs": [],
   "source": [
    "def tokenize(text):\n",
    "    \"\"\"\n",
    "    Tokenize the text function\n",
    "    \n",
    "    Arguments:\n",
    "        text -> Text message which needs to be tokenized\n",
    "    Output:\n",
    "        clean_tokens -> List of tokens extracted from the provided text\n",
    "    \"\"\"\n",
    "    url_regex = r'http[s]?://(?:[a-zA-Z]|[0-9]|[$-_@.&+]|[!*\\(\\),]|(?:%[0-9a-fA-F][0-9a-fA-F]))+'\n",
    "    \n",
    "    # get list of all urls using regex\n",
    "    detected_urls = re.findall(url_regex, text)\n",
    "    \n",
    "    # replace each url in text string with placeholder\n",
    "    for url in detected_urls:\n",
    "        text = text.replace(url,'urlplaceholder')\n",
    "\n",
    "    # tokenize text\n",
    "    tokens = word_tokenize(text)\n",
    "    \n",
    "    # initiate lemmatizer\n",
    "    lemmatizer = WordNetLemmatizer()\n",
    "\n",
    "    # iterate through each token\n",
    "    clean_tokens = []\n",
    "    for tok in tokens:\n",
    "        # lemmatize, normalize case, and remove leading/trailing white space\n",
    "        clean_tok = lemmatizer.lemmatize(tok).lower().strip()\n",
    "        clean_tokens.append(clean_tok)\n",
    "\n",
    "    return clean_tokens"
   ]
  },
  {
   "cell_type": "code",
   "execution_count": 6,
   "metadata": {},
   "outputs": [
    {
     "name": "stdout",
     "output_type": "stream",
     "text": [
      "Weather update - a cold front from Cuba that could pass over Haiti\n",
      "['weather', 'update', '-', 'a', 'cold', 'front', 'from', 'cuba', 'that', 'could', 'pas', 'over', 'haiti'] \n",
      "\n",
      "Is the Hurricane over or is it not over\n",
      "['is', 'the', 'hurricane', 'over', 'or', 'is', 'it', 'not', 'over'] \n",
      "\n",
      "Looking for someone but no name\n",
      "['looking', 'for', 'someone', 'but', 'no', 'name'] \n",
      "\n",
      "UN reports Leogane 80-90 destroyed. Only Hospital St. Croix functioning. Needs supplies desperately.\n",
      "['un', 'report', 'leogane', '80-90', 'destroyed', '.', 'only', 'hospital', 'st.', 'croix', 'functioning', '.', 'needs', 'supply', 'desperately', '.'] \n",
      "\n",
      "says: west side of Haiti, rest of the country today and tonight\n",
      "['say', ':', 'west', 'side', 'of', 'haiti', ',', 'rest', 'of', 'the', 'country', 'today', 'and', 'tonight'] \n",
      "\n"
     ]
    }
   ],
   "source": [
    "# Test tokenize \n",
    "for message in X[:5]:\n",
    "        tokens = tokenize(message)\n",
    "        print(message)\n",
    "        print(tokens, '\\n')"
   ]
  },
  {
   "cell_type": "markdown",
   "metadata": {},
   "source": [
    "### 3. Build a machine learning pipeline\n",
    "This machine pipeline should take in the `message` column as input and output classification results on the other 36 categories in the dataset. You may find the [MultiOutputClassifier](http://scikit-learn.org/stable/modules/generated/sklearn.multioutput.MultiOutputClassifier.html) helpful for predicting multiple target variables."
   ]
  },
  {
   "cell_type": "code",
   "execution_count": 11,
   "metadata": {},
   "outputs": [],
   "source": [
    "# One pipeline for each classifier(variation)\n",
    "pipeline1 = Pipeline([\n",
    "        ('features', FeatureUnion([\n",
    "\n",
    "            ('text_pipeline', Pipeline([\n",
    "                ('count_vectorizer', CountVectorizer(tokenizer=tokenize)),\n",
    "                ('tfidf_transformer', TfidfTransformer())\n",
    "            ]))\n",
    "            \n",
    "        ])),\n",
    "\n",
    "        ('classifier', MultiOutputClassifier(AdaBoostClassifier()))\n",
    "    ])\n",
    "\n",
    "\n",
    "pipeline2 = Pipeline([\n",
    "        ('features', FeatureUnion([\n",
    "\n",
    "            ('text_pipeline', Pipeline([\n",
    "                ('count_vectorizer', CountVectorizer(tokenizer=tokenize)),\n",
    "                ('tfidf_transformer', TfidfTransformer())\n",
    "            ]))\n",
    "            \n",
    "        ])),\n",
    "\n",
    "        ('classifier', MultiOutputClassifier(estimator=RandomForestClassifier(random_state=42)))\n",
    "    ])\n"
   ]
  },
  {
   "cell_type": "markdown",
   "metadata": {},
   "source": [
    "### 4. Train pipeline\n",
    "- Split data into train and test sets\n",
    "- Train pipeline"
   ]
  },
  {
   "cell_type": "code",
   "execution_count": 32,
   "metadata": {},
   "outputs": [],
   "source": [
    "X_train, X_test, y_train, y_test = train_test_split(X, y)\n",
    "# change pipeline number only here!\n",
    "pipeline_fit = pipeline1.fit(X_train, y_train)  "
   ]
  },
  {
   "cell_type": "markdown",
   "metadata": {},
   "source": [
    "### 5. Test your model\n",
    "Report the f1 score, precision and recall for each output category of the dataset. You can do this by iterating through the columns and calling sklearn's `classification_report` on each."
   ]
  },
  {
   "cell_type": "code",
   "execution_count": 33,
   "metadata": {},
   "outputs": [
    {
     "name": "stdout",
     "output_type": "stream",
     "text": [
      "The training accuracy is: \n",
      "28.1812633506\n",
      " \n",
      "The test accuracy is: \n",
      "26.9606347269\n",
      " \n",
      "--------------------------------classification report TRAIN--------------------------------\n",
      "                        precision    recall  f1-score   support\n",
      "\n",
      "               related       0.83      0.94      0.88     15038\n",
      "               request       0.79      0.54      0.64      3333\n",
      "                 offer       0.33      0.06      0.10        89\n",
      "           aid_related       0.77      0.61      0.68      8130\n",
      "          medical_help       0.67      0.30      0.41      1560\n",
      "      medical_products       0.70      0.38      0.50      1018\n",
      "     search_and_rescue       0.66      0.24      0.35       554\n",
      "              security       0.53      0.09      0.15       348\n",
      "              military       0.61      0.33      0.42       649\n",
      "                 water       0.78      0.68      0.73      1256\n",
      "                  food       0.81      0.70      0.75      2194\n",
      "               shelter       0.80      0.55      0.65      1718\n",
      "              clothing       0.80      0.48      0.60       309\n",
      "                 money       0.63      0.31      0.42       455\n",
      "        missing_people       0.65      0.20      0.30       217\n",
      "              refugees       0.69      0.28      0.40       642\n",
      "                 death       0.80      0.48      0.60       892\n",
      "             other_aid       0.60      0.18      0.28      2577\n",
      "infrastructure_related       0.52      0.11      0.19      1288\n",
      "             transport       0.76      0.25      0.37       900\n",
      "             buildings       0.70      0.42      0.52      1021\n",
      "           electricity       0.71      0.34      0.46       386\n",
      "                 tools       0.42      0.07      0.11       121\n",
      "             hospitals       0.45      0.12      0.18       225\n",
      "                 shops       0.50      0.05      0.09        86\n",
      "           aid_centers       0.44      0.11      0.17       236\n",
      "  other_infrastructure       0.49      0.12      0.19       862\n",
      "       weather_related       0.85      0.67      0.75      5452\n",
      "                floods       0.88      0.57      0.69      1604\n",
      "                 storm       0.77      0.58      0.66      1813\n",
      "                  fire       0.76      0.33      0.46       205\n",
      "            earthquake       0.89      0.76      0.82      1837\n",
      "                  cold       0.75      0.36      0.49       388\n",
      "         other_weather       0.58      0.21      0.31      1018\n",
      "         direct_report       0.74      0.49      0.59      3788\n",
      "\n",
      "           avg / total       0.77      0.60      0.65     62209\n",
      "\n",
      "--------------------------------classification report TEST--------------------------------\n",
      "                        precision    recall  f1-score   support\n",
      "\n",
      "               related       0.84      0.93      0.88      5056\n",
      "               request       0.77      0.55      0.64      1141\n",
      "                 offer       0.00      0.00      0.00        29\n",
      "           aid_related       0.76      0.60      0.67      2730\n",
      "          medical_help       0.56      0.23      0.33       524\n",
      "      medical_products       0.62      0.34      0.44       295\n",
      "     search_and_rescue       0.53      0.19      0.28       170\n",
      "              security       0.33      0.07      0.12       123\n",
      "              military       0.59      0.29      0.39       211\n",
      "                 water       0.74      0.63      0.68       416\n",
      "                  food       0.80      0.71      0.75       729\n",
      "               shelter       0.76      0.55      0.64       596\n",
      "              clothing       0.67      0.36      0.47        96\n",
      "                 money       0.60      0.26      0.36       149\n",
      "        missing_people       0.62      0.16      0.25        81\n",
      "              refugees       0.54      0.27      0.36       233\n",
      "                 death       0.78      0.43      0.56       302\n",
      "             other_aid       0.53      0.17      0.26       869\n",
      "infrastructure_related       0.39      0.08      0.14       417\n",
      "             transport       0.63      0.17      0.27       301\n",
      "             buildings       0.67      0.44      0.53       312\n",
      "           electricity       0.69      0.24      0.36       146\n",
      "                 tools       0.25      0.05      0.09        38\n",
      "             hospitals       0.19      0.09      0.12        58\n",
      "                 shops       0.00      0.00      0.00        34\n",
      "           aid_centers       0.43      0.14      0.21        73\n",
      "  other_infrastructure       0.36      0.09      0.14       289\n",
      "       weather_related       0.86      0.67      0.75      1845\n",
      "                floods       0.86      0.54      0.66       551\n",
      "                 storm       0.76      0.59      0.66       630\n",
      "                  fire       0.61      0.29      0.39        77\n",
      "            earthquake       0.88      0.75      0.81       618\n",
      "                  cold       0.72      0.39      0.50       142\n",
      "         other_weather       0.47      0.18      0.26       358\n",
      "         direct_report       0.72      0.49      0.59      1287\n",
      "\n",
      "           avg / total       0.74      0.59      0.64     20926\n",
      "\n"
     ]
    }
   ],
   "source": [
    "# output für pipeline1\n",
    "y_pred_train = pipeline_fit.predict(X_train)\n",
    "y_pred_test = pipeline_fit.predict(X_test)\n",
    "\n",
    "# Training accuracy\n",
    "print(\"The training accuracy is: \")\n",
    "print(accuracy_score(y_train, y_pred_train)*100)\n",
    "print(\" \")\n",
    "\n",
    "# Test accuracy\n",
    "print(\"The test accuracy is: \")\n",
    "print(accuracy_score(y_test, y_pred_test)*100)\n",
    "print(\" \")\n",
    "\n",
    "# Classification report\n",
    "print(\"--------------------------------classification report TRAIN--------------------------------\")\n",
    "print(classification_report(y_train, y_pred_train, target_names=y.columns.values))\n",
    "print(\"--------------------------------classification report TEST--------------------------------\")\n",
    "print(classification_report(y_test, y_pred_test, target_names=y.columns.values))"
   ]
  },
  {
   "cell_type": "code",
   "execution_count": null,
   "metadata": {},
   "outputs": [],
   "source": [
    "##REMOVE##\n",
    "# output für pipeline1\n",
    "y_pred_train = pipeline_fit.predict(X_train)\n",
    "y_pred_test = pipeline_fit.predict(X_test)\n",
    "\n",
    "# Training accuracy\n",
    "print(\"The training accuracy is: \")\n",
    "print(accuracy_score(y_train, y_pred_train)*100)\n",
    "print(\" \")\n",
    "\n",
    "# Test accuracy\n",
    "print(\"The test accuracy is: \")\n",
    "print(accuracy_score(y_test, y_pred_test)*100)\n",
    "print(\" \")\n",
    "\n",
    "# Classification report\n",
    "print(\"--------------------------------classification report TRAIN--------------------------------\")\n",
    "print(classification_report(y_train, y_pred_train, target_names=y.columns.values))\n",
    "print(\"--------------------------------classification report TEST--------------------------------\")\n",
    "print(classification_report(y_test, y_pred_test, target_names=y.columns.values))"
   ]
  },
  {
   "cell_type": "markdown",
   "metadata": {},
   "source": [
    "### 6. Improve your model\n",
    "Use grid search to find better parameters. "
   ]
  },
  {
   "cell_type": "code",
   "execution_count": 17,
   "metadata": {},
   "outputs": [
    {
     "data": {
      "text/plain": [
       "GridSearchCV(cv=None, error_score='raise',\n",
       "       estimator=Pipeline(memory=None,\n",
       "     steps=[('features', FeatureUnion(n_jobs=1,\n",
       "       transformer_list=[('text_pipeline', Pipeline(memory=None,\n",
       "     steps=[('count_vectorizer', CountVectorizer(analyzer='word', binary=False, decode_error='strict',\n",
       "        dtype=<class 'numpy.int64'>, encoding='utf-8', input='content',\n",
       "        lowercase...mator=None,\n",
       "          learning_rate=1.0, n_estimators=50, random_state=None),\n",
       "           n_jobs=1))]),\n",
       "       fit_params=None, iid=True, n_jobs=-1,\n",
       "       param_grid={'classifier__estimator__learning_rate': [0.01, 0.02, 0.05], 'classifier__estimator__n_estimators': [10, 20, 40]},\n",
       "       pre_dispatch='2*n_jobs', refit=True, return_train_score='warn',\n",
       "       scoring='f1_micro', verbose=0)"
      ]
     },
     "execution_count": 17,
     "metadata": {},
     "output_type": "execute_result"
    }
   ],
   "source": [
    "# pipeline1.get_params().keys()\n",
    "parameters_grid = {'classifier__estimator__learning_rate': [0.01, 0.02, 0.05],\n",
    "              'classifier__estimator__n_estimators': [10, 20, 40]}\n",
    "\n",
    "cv = GridSearchCV(pipeline1, param_grid=parameters_grid, scoring='f1_micro', n_jobs=-1)\n",
    "cv.fit(X_train, y_train)"
   ]
  },
  {
   "cell_type": "code",
   "execution_count": 18,
   "metadata": {},
   "outputs": [
    {
     "data": {
      "text/plain": [
       "Pipeline(memory=None,\n",
       "     steps=[('features', FeatureUnion(n_jobs=1,\n",
       "       transformer_list=[('text_pipeline', Pipeline(memory=None,\n",
       "     steps=[('count_vectorizer', CountVectorizer(analyzer='word', binary=False, decode_error='strict',\n",
       "        dtype=<class 'numpy.int64'>, encoding='utf-8', input='content',\n",
       "        lowercase...ator=None,\n",
       "          learning_rate=0.01, n_estimators=10, random_state=None),\n",
       "           n_jobs=1))])"
      ]
     },
     "execution_count": 18,
     "metadata": {},
     "output_type": "execute_result"
    }
   ],
   "source": [
    "# Best result\n",
    "cv.best_estimator_"
   ]
  },
  {
   "cell_type": "code",
   "execution_count": 19,
   "metadata": {},
   "outputs": [
    {
     "name": "stdout",
     "output_type": "stream",
     "text": [
      "The best hyperparameters from Grid Search are:\n",
      "{'classifier__estimator__learning_rate': 0.01, 'classifier__estimator__n_estimators': 10}\n",
      "\n",
      "The mean accuracy of model with these hyperparameters is:\n",
      "0.547995209975\n"
     ]
    },
    {
     "data": {
      "text/plain": [
       "Pipeline(memory=None,\n",
       "     steps=[('features', FeatureUnion(n_jobs=1,\n",
       "       transformer_list=[('text_pipeline', Pipeline(memory=None,\n",
       "     steps=[('count_vectorizer', CountVectorizer(analyzer='word', binary=False, decode_error='strict',\n",
       "        dtype=<class 'numpy.int64'>, encoding='utf-8', input='content',\n",
       "        lowercase...ator=None,\n",
       "          learning_rate=0.01, n_estimators=10, random_state=None),\n",
       "           n_jobs=1))])"
      ]
     },
     "execution_count": 19,
     "metadata": {},
     "output_type": "execute_result"
    }
   ],
   "source": [
    "print(\"The best hyperparameters from Grid Search are:\")\n",
    "print(cv.best_params_)\n",
    "print(\"\")\n",
    "print(\"The mean accuracy of model with these hyperparameters is:\")\n",
    "print(cv.best_score_)\n",
    "cv_best_unfitted = cv.best_estimator_\n",
    "cv_best = cv.best_estimator_\n",
    "cv_best.fit(X_train, y_train)"
   ]
  },
  {
   "cell_type": "markdown",
   "metadata": {},
   "source": [
    "### 7. Test your model\n",
    "Show the accuracy, precision, and recall of the tuned model.  \n",
    "\n",
    "Since this project focuses on code quality, process, and  pipelines, there is no minimum performance metric needed to pass. However, make sure to fine tune your models for accuracy, precision and recall to make your project stand out - especially for your portfolio!"
   ]
  },
  {
   "cell_type": "code",
   "execution_count": 20,
   "metadata": {},
   "outputs": [
    {
     "name": "stdout",
     "output_type": "stream",
     "text": [
      "The training accuracy is: \n",
      "27.6116366595\n",
      " \n",
      "The test accuracy is: \n",
      "26.1061946903\n",
      " \n",
      "--------------------------------classification report TRAIN--------------------------------\n",
      "                        precision    recall  f1-score   support\n",
      "\n",
      "               related       0.82      0.95      0.88     15040\n",
      "               request       0.80      0.55      0.65      3346\n",
      "                 offer       0.44      0.10      0.16        82\n",
      "           aid_related       0.77      0.60      0.68      8127\n",
      "          medical_help       0.65      0.30      0.41      1568\n",
      "      medical_products       0.68      0.34      0.45       970\n",
      "     search_and_rescue       0.70      0.23      0.35       568\n",
      "              security       0.48      0.06      0.10       352\n",
      "              military       0.67      0.36      0.47       619\n",
      "                 water       0.78      0.66      0.71      1249\n",
      "                  food       0.82      0.70      0.76      2207\n",
      "               shelter       0.80      0.54      0.64      1747\n",
      "              clothing       0.80      0.47      0.59       310\n",
      "                 money       0.65      0.34      0.45       470\n",
      "        missing_people       0.68      0.17      0.27       229\n",
      "              refugees       0.65      0.29      0.40       685\n",
      "                 death       0.79      0.50      0.61       918\n",
      "             other_aid       0.58      0.15      0.24      2576\n",
      "infrastructure_related       0.53      0.10      0.17      1235\n",
      "             transport       0.76      0.23      0.35       901\n",
      "             buildings       0.72      0.44      0.54       989\n",
      "           electricity       0.67      0.30      0.41       368\n",
      "                 tools       0.47      0.12      0.20       121\n",
      "             hospitals       0.47      0.14      0.22       195\n",
      "                 shops       0.50      0.10      0.17        90\n",
      "           aid_centers       0.52      0.13      0.21       230\n",
      "  other_infrastructure       0.47      0.10      0.17       833\n",
      "       weather_related       0.86      0.66      0.75      5490\n",
      "                floods       0.87      0.56      0.68      1639\n",
      "                 storm       0.78      0.50      0.61      1848\n",
      "                  fire       0.72      0.30      0.42       203\n",
      "            earthquake       0.89      0.78      0.83      1826\n",
      "                  cold       0.80      0.36      0.49       397\n",
      "         other_weather       0.57      0.18      0.27      1041\n",
      "         direct_report       0.76      0.50      0.60      3764\n",
      "\n",
      "           avg / total       0.77      0.60      0.65     62233\n",
      "\n",
      "--------------------------------classification report TEST--------------------------------\n",
      "                        precision    recall  f1-score   support\n",
      "\n",
      "               related       0.83      0.94      0.88      5054\n",
      "               request       0.76      0.55      0.64      1128\n",
      "                 offer       0.20      0.03      0.05        36\n",
      "           aid_related       0.76      0.60      0.67      2733\n",
      "          medical_help       0.60      0.28      0.38       516\n",
      "      medical_products       0.62      0.33      0.43       343\n",
      "     search_and_rescue       0.61      0.22      0.32       156\n",
      "              security       0.35      0.05      0.09       119\n",
      "              military       0.65      0.31      0.42       241\n",
      "                 water       0.76      0.65      0.70       423\n",
      "                  food       0.80      0.69      0.74       716\n",
      "               shelter       0.79      0.58      0.67       567\n",
      "              clothing       0.74      0.39      0.51        95\n",
      "                 money       0.48      0.31      0.38       134\n",
      "        missing_people       0.58      0.16      0.25        69\n",
      "              refugees       0.56      0.22      0.31       190\n",
      "                 death       0.70      0.42      0.52       276\n",
      "             other_aid       0.50      0.13      0.21       870\n",
      "infrastructure_related       0.46      0.09      0.15       470\n",
      "             transport       0.78      0.19      0.30       300\n",
      "             buildings       0.65      0.37      0.47       344\n",
      "           electricity       0.67      0.23      0.34       164\n",
      "                 tools       0.00      0.00      0.00        38\n",
      "             hospitals       0.35      0.10      0.16        88\n",
      "                 shops       0.00      0.00      0.00        30\n",
      "           aid_centers       0.26      0.06      0.10        79\n",
      "  other_infrastructure       0.39      0.09      0.15       318\n",
      "       weather_related       0.86      0.66      0.75      1807\n",
      "                floods       0.89      0.54      0.68       516\n",
      "                 storm       0.79      0.50      0.61       595\n",
      "                  fire       0.55      0.20      0.30        79\n",
      "            earthquake       0.89      0.76      0.82       629\n",
      "                  cold       0.66      0.29      0.41       133\n",
      "         other_weather       0.55      0.18      0.27       335\n",
      "         direct_report       0.71      0.49      0.58      1311\n",
      "\n",
      "           avg / total       0.74      0.58      0.63     20902\n",
      "\n"
     ]
    }
   ],
   "source": [
    "# output für pipeline4\n",
    "y_pred_train_cv = cv_best.predict(X_train)\n",
    "y_pred_test_cv = cv_best.predict(X_test)\n",
    "\n",
    "# Training accuracy\n",
    "print(\"The training accuracy is: \")\n",
    "print(accuracy_score(y_train, y_pred_train)*100)\n",
    "print(\" \")\n",
    "\n",
    "# Test accuracy\n",
    "print(\"The test accuracy is: \")\n",
    "print(accuracy_score(y_test, y_pred_test)*100)\n",
    "print(\" \")\n",
    "\n",
    "# Classification report\n",
    "print(\"--------------------------------classification report TRAIN--------------------------------\")\n",
    "print(classification_report(y_train, y_pred_train, target_names=y.columns.values))\n",
    "print(\"--------------------------------classification report TEST--------------------------------\")\n",
    "print(classification_report(y_test, y_pred_test, target_names=y.columns.values))"
   ]
  },
  {
   "cell_type": "markdown",
   "metadata": {},
   "source": [
    "### 8. Try improving your model further. Here are a few ideas:\n",
    "* try other machine learning algorithms\n",
    "* add other features besides the TF-IDF"
   ]
  },
  {
   "cell_type": "code",
   "execution_count": 34,
   "metadata": {},
   "outputs": [],
   "source": [
    "# Use pipeline2 which uses a Random Forrest classifier\n",
    "pipeline_fit = pipeline2.fit(X_train, y_train)  # change pipeline number only here!"
   ]
  },
  {
   "cell_type": "code",
   "execution_count": 35,
   "metadata": {},
   "outputs": [
    {
     "name": "stdout",
     "output_type": "stream",
     "text": [
      "The training accuracy is: \n",
      "88.7498728512\n",
      " \n",
      "The test accuracy is: \n",
      "22.0628623741\n",
      " \n",
      "--------------------------------classification report TRAIN--------------------------------\n",
      "                        precision    recall  f1-score   support\n",
      "\n",
      "               related       0.99      1.00      0.99     15038\n",
      "               request       1.00      0.93      0.96      3333\n",
      "                 offer       1.00      0.70      0.82        89\n",
      "           aid_related       1.00      0.97      0.98      8130\n",
      "          medical_help       1.00      0.85      0.92      1560\n",
      "      medical_products       1.00      0.85      0.92      1018\n",
      "     search_and_rescue       1.00      0.79      0.88       554\n",
      "              security       1.00      0.75      0.86       348\n",
      "              military       1.00      0.86      0.92       649\n",
      "                 water       1.00      0.91      0.95      1256\n",
      "                  food       1.00      0.94      0.97      2194\n",
      "               shelter       1.00      0.91      0.95      1718\n",
      "              clothing       1.00      0.88      0.94       309\n",
      "                 money       1.00      0.84      0.92       455\n",
      "        missing_people       1.00      0.75      0.86       217\n",
      "              refugees       1.00      0.81      0.89       642\n",
      "                 death       1.00      0.86      0.92       892\n",
      "             other_aid       1.00      0.85      0.92      2577\n",
      "infrastructure_related       1.00      0.78      0.87      1288\n",
      "             transport       1.00      0.81      0.90       900\n",
      "             buildings       1.00      0.86      0.92      1021\n",
      "           electricity       1.00      0.83      0.91       386\n",
      "                 tools       1.00      0.76      0.86       121\n",
      "             hospitals       1.00      0.74      0.85       225\n",
      "                 shops       1.00      0.78      0.88        86\n",
      "           aid_centers       1.00      0.73      0.84       236\n",
      "  other_infrastructure       1.00      0.76      0.86       862\n",
      "       weather_related       1.00      0.96      0.98      5452\n",
      "                floods       1.00      0.90      0.95      1604\n",
      "                 storm       1.00      0.95      0.97      1813\n",
      "                  fire       1.00      0.80      0.89       205\n",
      "            earthquake       1.00      0.95      0.97      1837\n",
      "                  cold       1.00      0.86      0.92       388\n",
      "         other_weather       1.00      0.82      0.90      1018\n",
      "         direct_report       1.00      0.93      0.96      3788\n",
      "\n",
      "           avg / total       1.00      0.93      0.96     62209\n",
      "\n",
      "--------------------------------classification report TEST--------------------------------\n",
      "                        precision    recall  f1-score   support\n",
      "\n",
      "               related       0.83      0.93      0.88      5056\n",
      "               request       0.79      0.37      0.51      1141\n",
      "                 offer       0.00      0.00      0.00        29\n",
      "           aid_related       0.75      0.50      0.60      2730\n",
      "          medical_help       0.54      0.06      0.11       524\n",
      "      medical_products       0.70      0.09      0.16       295\n",
      "     search_and_rescue       0.56      0.11      0.18       170\n",
      "              security       0.00      0.00      0.00       123\n",
      "              military       0.74      0.08      0.15       211\n",
      "                 water       0.83      0.16      0.27       416\n",
      "                  food       0.83      0.39      0.53       729\n",
      "               shelter       0.86      0.21      0.34       596\n",
      "              clothing       0.62      0.05      0.10        96\n",
      "                 money       0.33      0.01      0.03       149\n",
      "        missing_people       1.00      0.01      0.02        81\n",
      "              refugees       0.45      0.02      0.04       233\n",
      "                 death       0.52      0.04      0.07       302\n",
      "             other_aid       0.54      0.03      0.05       869\n",
      "infrastructure_related       0.50      0.00      0.01       417\n",
      "             transport       0.73      0.08      0.14       301\n",
      "             buildings       0.80      0.16      0.27       312\n",
      "           electricity       0.67      0.03      0.05       146\n",
      "                 tools       0.00      0.00      0.00        38\n",
      "             hospitals       0.00      0.00      0.00        58\n",
      "                 shops       0.00      0.00      0.00        34\n",
      "           aid_centers       0.00      0.00      0.00        73\n",
      "  other_infrastructure       0.33      0.00      0.01       289\n",
      "       weather_related       0.84      0.51      0.63      1845\n",
      "                floods       0.87      0.21      0.34       551\n",
      "                 storm       0.77      0.36      0.49       630\n",
      "                  fire       0.00      0.00      0.00        77\n",
      "            earthquake       0.89      0.66      0.76       618\n",
      "                  cold       0.86      0.04      0.08       142\n",
      "         other_weather       0.60      0.06      0.11       358\n",
      "         direct_report       0.80      0.34      0.48      1287\n",
      "\n",
      "           avg / total       0.74      0.45      0.50     20926\n",
      "\n"
     ]
    },
    {
     "name": "stderr",
     "output_type": "stream",
     "text": [
      "/opt/conda/lib/python3.6/site-packages/sklearn/metrics/classification.py:1135: UndefinedMetricWarning: Precision and F-score are ill-defined and being set to 0.0 in labels with no predicted samples.\n",
      "  'precision', 'predicted', average, warn_for)\n"
     ]
    }
   ],
   "source": [
    "# output für pipeline2\n",
    "y_pred_train = pipeline_fit.predict(X_train)\n",
    "y_pred_test = pipeline_fit.predict(X_test)\n",
    "\n",
    "# Training accuracy\n",
    "print(\"The training accuracy is: \")\n",
    "print(accuracy_score(y_train, y_pred_train)*100)\n",
    "print(\" \")\n",
    "\n",
    "# Test accuracy\n",
    "print(\"The test accuracy is: \")\n",
    "print(accuracy_score(y_test, y_pred_test)*100)\n",
    "print(\" \")\n",
    "\n",
    "# Classification report\n",
    "print(\"--------------------------------classification report TRAIN--------------------------------\")\n",
    "print(classification_report(y_train, y_pred_train, target_names=y.columns.values))\n",
    "print(\"--------------------------------classification report TEST--------------------------------\")\n",
    "print(classification_report(y_test, y_pred_test, target_names=y.columns.values))"
   ]
  },
  {
   "cell_type": "markdown",
   "metadata": {},
   "source": [
    "### 9. Export your model as a pickle file"
   ]
  },
  {
   "cell_type": "code",
   "execution_count": 21,
   "metadata": {},
   "outputs": [],
   "source": [
    "# SAVE GRIDSEARCH, BEST MODEL((un)+fitted) AND IMPROVED fitted)\n",
    "\n",
    "with open('cv_gridsearch_result.pkl', 'wb') as file:\n",
    "    pickle.dump(cv, file)\n",
    "    \n",
    "# with open('cv_best_result_unfitted.pkl', 'wb') as file:\n",
    "#     pickle.dump(cv_best_unfitted, file)\n",
    "\n",
    "with open('cv_best_result.pkl', 'wb') as file:\n",
    "    pickle.dump(cv_best, file)\n",
    "\n",
    "with open('cv_improved_result.pkl', 'wb') as file:\n",
    "    pickle.dump(pipeline_fit, file)\n"
   ]
  },
  {
   "cell_type": "markdown",
   "metadata": {},
   "source": [
    "### 10. Use this notebook to complete `train.py`\n",
    "Use the template file attached in the Resources folder to write a script that runs the steps above to create a database and export a model based on a new dataset specified by the user."
   ]
  },
  {
   "cell_type": "code",
   "execution_count": null,
   "metadata": {},
   "outputs": [],
   "source": []
  }
 ],
 "metadata": {
  "kernelspec": {
   "display_name": "Python 3",
   "language": "python",
   "name": "python3"
  },
  "language_info": {
   "codemirror_mode": {
    "name": "ipython",
    "version": 3
   },
   "file_extension": ".py",
   "mimetype": "text/x-python",
   "name": "python",
   "nbconvert_exporter": "python",
   "pygments_lexer": "ipython3",
   "version": "3.6.3"
  }
 },
 "nbformat": 4,
 "nbformat_minor": 2
}
